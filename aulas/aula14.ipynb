{
  "nbformat": 4,
  "nbformat_minor": 0,
  "metadata": {
    "colab": {
      "name": "aula14.ipynb",
      "provenance": [],
      "collapsed_sections": []
    },
    "kernelspec": {
      "name": "python3",
      "display_name": "Python 3"
    }
  },
  "cells": [
    {
      "cell_type": "markdown",
      "metadata": {
        "id": "Zp0Yvo07ME3I"
      },
      "source": [
        "#Estruturas e identação"
      ]
    },
    {
      "cell_type": "code",
      "metadata": {
        "id": "ExKzL-qD_Rep",
        "outputId": "42241fb1-f076-451c-8ab3-c17f5f1d0fe1",
        "colab": {
          "base_uri": "https://localhost:8080/",
          "height": 1000
        }
      },
      "source": [
        "lista = [1, 2, 3, 4, 5]\n",
        "dicionario = {\"chave\": \"valor\"}\n",
        "tupla = ('a', 'b')\n",
        "\n",
        "\n",
        "\n",
        "for i in lista:\n",
        "  print(i)\n",
        "  for j in lista:\n",
        "    print(i)\n",
        "    print(j+1)\n",
        "  print(\"for em j finalizou\")"
      ],
      "execution_count": 18,
      "outputs": [
        {
          "output_type": "stream",
          "text": [
            "1\n",
            "1\n",
            "2\n",
            "1\n",
            "3\n",
            "1\n",
            "4\n",
            "1\n",
            "5\n",
            "1\n",
            "6\n",
            "for em j finalizou\n",
            "2\n",
            "2\n",
            "2\n",
            "2\n",
            "3\n",
            "2\n",
            "4\n",
            "2\n",
            "5\n",
            "2\n",
            "6\n",
            "for em j finalizou\n",
            "3\n",
            "3\n",
            "2\n",
            "3\n",
            "3\n",
            "3\n",
            "4\n",
            "3\n",
            "5\n",
            "3\n",
            "6\n",
            "for em j finalizou\n",
            "4\n",
            "4\n",
            "2\n",
            "4\n",
            "3\n",
            "4\n",
            "4\n",
            "4\n",
            "5\n",
            "4\n",
            "6\n",
            "for em j finalizou\n",
            "5\n",
            "5\n",
            "2\n",
            "5\n",
            "3\n",
            "5\n",
            "4\n",
            "5\n",
            "5\n",
            "5\n",
            "6\n",
            "for em j finalizou\n"
          ],
          "name": "stdout"
        }
      ]
    },
    {
      "cell_type": "markdown",
      "metadata": {
        "id": "5r56Jnn4O6S1"
      },
      "source": [
        "#Módulos e comentários"
      ]
    },
    {
      "cell_type": "code",
      "metadata": {
        "id": "P-dJtsPWO_qS",
        "outputId": "45d874bf-9454-4766-c0ed-5d3f8a3a5f16",
        "colab": {
          "base_uri": "https://localhost:8080/",
          "height": 34
        }
      },
      "source": [
        "import re\n",
        "\n",
        "resultado = re.compile(\"[0-9]+\", re.I)\n",
        "print(resultado)"
      ],
      "execution_count": 19,
      "outputs": [
        {
          "output_type": "stream",
          "text": [
            "re.compile('[0-9]+', re.IGNORECASE)\n"
          ],
          "name": "stdout"
        }
      ]
    },
    {
      "cell_type": "code",
      "metadata": {
        "id": "6_My5IRbP49h",
        "outputId": "2d2dd42e-d4af-4660-c79a-c5f768214e90",
        "colab": {
          "base_uri": "https://localhost:8080/",
          "height": 34
        }
      },
      "source": [
        "\"\"\" import math as skt\n",
        "\n",
        "\n",
        "resultado = matematica.sqrt(9)\n",
        "print(resultado)\n",
        "\"\"\"\n",
        "\n",
        "print(\"Comentários\")"
      ],
      "execution_count": 20,
      "outputs": [
        {
          "output_type": "stream",
          "text": [
            "Comentários\n"
          ],
          "name": "stdout"
        }
      ]
    },
    {
      "cell_type": "code",
      "metadata": {
        "id": "Y_VpflokQX3E",
        "outputId": "594aae86-e05e-4c04-fcaa-241397187137",
        "colab": {
          "base_uri": "https://localhost:8080/",
          "height": 34
        }
      },
      "source": [
        "from math import sqrt\n",
        "\n",
        "print(sqrt(9))"
      ],
      "execution_count": 21,
      "outputs": [
        {
          "output_type": "stream",
          "text": [
            "3.0\n"
          ],
          "name": "stdout"
        }
      ]
    },
    {
      "cell_type": "markdown",
      "metadata": {
        "id": "QyQxt9wARF12"
      },
      "source": [
        "# String"
      ]
    },
    {
      "cell_type": "code",
      "metadata": {
        "id": "gu4iYndKRJTh",
        "outputId": "700b0ea0-43e8-4e41-e585-faed76a3f5be",
        "colab": {
          "base_uri": "https://localhost:8080/",
          "height": 51
        }
      },
      "source": [
        "objeto_string = \"teste de objeto\"\n",
        "type(objeto_string)\n",
        "\n",
        "\n",
        "print(objeto_string.find(\"t\"))\n",
        "\n",
        "lista_exemplo = []\n",
        "\n",
        "lista_exemplo.append(1)\n",
        "lista_exemplo.append(\"a\")\n",
        "lista_exemplo.append([])\n",
        "lista_exemplo.append({})\n",
        "\n",
        "print(lista_exemplo)\n",
        "\n"
      ],
      "execution_count": 22,
      "outputs": [
        {
          "output_type": "stream",
          "text": [
            "0\n",
            "[1, 'a', [], {}]\n"
          ],
          "name": "stdout"
        }
      ]
    },
    {
      "cell_type": "markdown",
      "metadata": {
        "id": "yFwOZ-i9SzC1"
      },
      "source": [
        "#Estruturas de decisão"
      ]
    },
    {
      "cell_type": "code",
      "metadata": {
        "id": "UWoAy33KS3Ce",
        "outputId": "f4bfca8c-fd5a-415d-efbe-c9a675410e77",
        "colab": {
          "base_uri": "https://localhost:8080/",
          "height": 85
        }
      },
      "source": [
        "if 1 == 1:\n",
        "  print(\"Verdade\")\n",
        "\n",
        "if not 1 == 2:\n",
        "  print(\"Falso\")\n",
        "\n",
        "for i in [1,2]:\n",
        "  print(i)"
      ],
      "execution_count": 27,
      "outputs": [
        {
          "output_type": "stream",
          "text": [
            "Verdade\n",
            "Falso\n",
            "1\n",
            "2\n"
          ],
          "name": "stdout"
        }
      ]
    },
    {
      "cell_type": "markdown",
      "metadata": {
        "id": "mk2_dKngTfBB"
      },
      "source": [
        "#Além do básico\n",
        "- Ordenção\n",
        "- Aleatoriedade;\n",
        "- Geradores e interadores;\n",
        "- Descompacatação (zip)"
      ]
    },
    {
      "cell_type": "code",
      "metadata": {
        "id": "PYKrjwg6UdCN",
        "outputId": "82d6fab0-fa5b-4da0-a794-885756749894",
        "colab": {
          "base_uri": "https://localhost:8080/",
          "height": 102
        }
      },
      "source": [
        "lista_aleatoria = [8, 9, 111, 6]\n",
        "\n",
        "lista_ordenada1 = sorted(lista_aleatoria)\n",
        "print(lista_ordenada1)\n",
        "\n",
        "\n",
        "# lista_ordenada2 = lista_aleatoria.sort()\n",
        "# for i in lista_ordenada1:\n",
        "#   print(i)"
      ],
      "execution_count": 40,
      "outputs": [
        {
          "output_type": "stream",
          "text": [
            "[6, 8, 9, 111]\n",
            "6\n",
            "8\n",
            "9\n",
            "111\n"
          ],
          "name": "stdout"
        }
      ]
    },
    {
      "cell_type": "code",
      "metadata": {
        "id": "Nw4eb2MWWLBQ",
        "outputId": "5c1db63d-cf4d-4ae4-bde6-7b9abd0449b9",
        "colab": {
          "base_uri": "https://localhost:8080/",
          "height": 34
        }
      },
      "source": [
        "import random as rd\n",
        "\n",
        "lista_randomizada = [rd.random() for _ in range(4)]\n",
        "print(lista_randomizada)\n"
      ],
      "execution_count": 45,
      "outputs": [
        {
          "output_type": "stream",
          "text": [
            "[0.5536427146209847, 0.6219871426530278, 0.19817073017330533, 0.007998550692143058]\n"
          ],
          "name": "stdout"
        }
      ]
    },
    {
      "cell_type": "code",
      "metadata": {
        "id": "CZYgdgvQYJZq",
        "outputId": "86edc1d3-82f2-4477-9201-a2eb877cb967",
        "colab": {
          "base_uri": "https://localhost:8080/",
          "height": 187
        }
      },
      "source": [
        "lista_range = range(10)\n",
        "\n",
        "for i in lista_range:\n",
        "  print(i)"
      ],
      "execution_count": 47,
      "outputs": [
        {
          "output_type": "stream",
          "text": [
            "0\n",
            "1\n",
            "2\n",
            "3\n",
            "4\n",
            "5\n",
            "6\n",
            "7\n",
            "8\n",
            "9\n"
          ],
          "name": "stdout"
        }
      ]
    },
    {
      "cell_type": "code",
      "metadata": {
        "id": "HO_WfMabYqCL",
        "outputId": "c2cbf8e7-43ce-43aa-f7a2-d43cc1aefc4f",
        "colab": {
          "base_uri": "https://localhost:8080/",
          "height": 85
        }
      },
      "source": [
        "listas_compactadas = zip(lista_aleatoria, lista_randomizada)\n",
        "\n",
        "for i in listas_compactadas:\n",
        "  print(i)"
      ],
      "execution_count": 49,
      "outputs": [
        {
          "output_type": "stream",
          "text": [
            "(8, 0.5536427146209847)\n",
            "(9, 0.6219871426530278)\n",
            "(111, 0.19817073017330533)\n",
            "(6, 0.007998550692143058)\n"
          ],
          "name": "stdout"
        }
      ]
    }
  ]
}